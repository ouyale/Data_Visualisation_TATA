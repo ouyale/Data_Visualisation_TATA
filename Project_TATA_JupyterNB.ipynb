{
 "cells": [
  {
   "cell_type": "markdown",
   "id": "e4515be3-4901-4825-aec6-2d635c0446ae",
   "metadata": {},
   "source": [
    "# Data Cleaning & MySQL Integration for Power BI\n",
    "## 📌 Overview\n",
    "This notebook focuses on:\n",
    "\n",
    "✅ Loading, cleaning, and structuring **540,000+ records**  \n",
    "✅ Automating data import into MySQL instead of manual entry  \n",
    "✅ Ensuring data integrity before visualizing in **Power BI**  "
   ]
  },
  {
   "cell_type": "markdown",
   "id": "08e40309-af12-4cf9-bc04-bffb3575e539",
   "metadata": {},
   "source": [
    "#  Install & Import Required Libraries"
   ]
  },
  {
   "cell_type": "code",
   "execution_count": 2,
   "id": "b8d0159d-8cfe-4be7-8c06-75e2db9c417d",
   "metadata": {},
   "outputs": [
    {
     "name": "stdout",
     "output_type": "stream",
     "text": [
      "Requirement already satisfied: pandas in /opt/anaconda3/lib/python3.12/site-packages (2.2.2)\n",
      "Collecting mysql-connector-python\n",
      "  Downloading mysql_connector_python-9.2.0-cp312-cp312-macosx_14_0_arm64.whl.metadata (6.0 kB)\n",
      "Requirement already satisfied: numpy>=1.26.0 in /opt/anaconda3/lib/python3.12/site-packages (from pandas) (1.26.4)\n",
      "Requirement already satisfied: python-dateutil>=2.8.2 in /opt/anaconda3/lib/python3.12/site-packages (from pandas) (2.9.0.post0)\n",
      "Requirement already satisfied: pytz>=2020.1 in /opt/anaconda3/lib/python3.12/site-packages (from pandas) (2024.1)\n",
      "Requirement already satisfied: tzdata>=2022.7 in /opt/anaconda3/lib/python3.12/site-packages (from pandas) (2023.3)\n",
      "Requirement already satisfied: six>=1.5 in /opt/anaconda3/lib/python3.12/site-packages (from python-dateutil>=2.8.2->pandas) (1.16.0)\n",
      "Downloading mysql_connector_python-9.2.0-cp312-cp312-macosx_14_0_arm64.whl (15.1 MB)\n",
      "\u001b[2K   \u001b[90m━━━━━━━━━━━━━━━━━━━━━━━━━━━━━━━━━━━━━━━━\u001b[0m \u001b[32m15.1/15.1 MB\u001b[0m \u001b[31m1.4 MB/s\u001b[0m eta \u001b[36m0:00:00\u001b[0m00:01\u001b[0m00:01\u001b[0m\n",
      "\u001b[?25hInstalling collected packages: mysql-connector-python\n",
      "Successfully installed mysql-connector-python-9.2.0\n"
     ]
    }
   ],
   "source": [
    "!pip install pandas mysql-connector-python\n"
   ]
  },
  {
   "cell_type": "code",
   "execution_count": 11,
   "id": "20c76bfa-2a11-4acc-b70a-887a854afcae",
   "metadata": {},
   "outputs": [
    {
     "name": "stdout",
     "output_type": "stream",
     "text": [
      "Requirement already satisfied: pandas in /opt/anaconda3/lib/python3.12/site-packages (2.2.2)\n",
      "Requirement already satisfied: openpyxl in /opt/anaconda3/lib/python3.12/site-packages (3.1.5)\n",
      "Requirement already satisfied: mysql-connector-python in /opt/anaconda3/lib/python3.12/site-packages (9.2.0)\n",
      "Requirement already satisfied: numpy>=1.26.0 in /opt/anaconda3/lib/python3.12/site-packages (from pandas) (1.26.4)\n",
      "Requirement already satisfied: python-dateutil>=2.8.2 in /opt/anaconda3/lib/python3.12/site-packages (from pandas) (2.9.0.post0)\n",
      "Requirement already satisfied: pytz>=2020.1 in /opt/anaconda3/lib/python3.12/site-packages (from pandas) (2024.1)\n",
      "Requirement already satisfied: tzdata>=2022.7 in /opt/anaconda3/lib/python3.12/site-packages (from pandas) (2023.3)\n",
      "Requirement already satisfied: et-xmlfile in /opt/anaconda3/lib/python3.12/site-packages (from openpyxl) (1.1.0)\n",
      "Requirement already satisfied: six>=1.5 in /opt/anaconda3/lib/python3.12/site-packages (from python-dateutil>=2.8.2->pandas) (1.16.0)\n"
     ]
    }
   ],
   "source": [
    "!pip install pandas openpyxl mysql-connector-python"
   ]
  },
  {
   "cell_type": "code",
   "execution_count": 186,
   "id": "c4e73fa9-754b-4ac4-bc9b-bf6689ef92a5",
   "metadata": {},
   "outputs": [],
   "source": [
    "import mysql.connector\n",
    "import pandas as pd"
   ]
  },
  {
   "cell_type": "markdown",
   "id": "b57fb46c-cbfa-4793-b50f-bb12cc2d4adb",
   "metadata": {},
   "source": [
    "# Connect to MySQL"
   ]
  },
  {
   "cell_type": "code",
   "execution_count": 188,
   "id": "ad6cbb3f-dc4a-4ef2-8126-b582ac03ccab",
   "metadata": {},
   "outputs": [
    {
     "name": "stdout",
     "output_type": "stream",
     "text": [
      "Successfully connected to MySQL!\n"
     ]
    }
   ],
   "source": [
    "# Connect to MySQL\n",
    "conn = mysql.connector.connect(\n",
    "    host=\"localhost\",  # Since your MySQL is running on your Mac\n",
    "    user=\"root\",  # Replace with your MySQL username\n",
    "    password=\"password\",  # Replace with your MySQL password\n",
    "    database=\"RetailDB\",  # Replace with your database name\n",
    "    unix_socket=\"/tmp/mysql.sock\",  # Use the socket file from the screenshot\n",
    "    port=3306  # Default MySQL port\n",
    ")\n",
    "\n",
    "cursor = conn.cursor()\n",
    "print(\"Successfully connected to MySQL!\")"
   ]
  },
  {
   "cell_type": "code",
   "execution_count": 3,
   "id": "47200eba-cc19-4afa-adf6-0eef7a758749",
   "metadata": {},
   "outputs": [
    {
     "name": "stdout",
     "output_type": "stream",
     "text": [
      "('information_schema',)\n",
      "('mysql',)\n",
      "('performance_schema',)\n",
      "('RetailDB',)\n",
      "('sys',)\n"
     ]
    }
   ],
   "source": [
    "cursor.execute(\"SHOW DATABASES;\")\n",
    "for db in cursor.fetchall():\n",
    "    print(db)"
   ]
  },
  {
   "cell_type": "code",
   "execution_count": 5,
   "id": "16bfe691-eed5-40ec-813e-f6e3da275d67",
   "metadata": {},
   "outputs": [
    {
     "name": "stdout",
     "output_type": "stream",
     "text": [
      "✅ Now using RetailDB!\n"
     ]
    }
   ],
   "source": [
    "cursor.execute(\"USE RetailDB;\")\n",
    "print(\"✅ Now using RetailDB!\")"
   ]
  },
  {
   "cell_type": "markdown",
   "id": "47c1a2c2-442a-4b9d-a25b-bccedf2f5c5c",
   "metadata": {},
   "source": [
    "# Load & Inspect Data"
   ]
  },
  {
   "cell_type": "code",
   "execution_count": 13,
   "id": "dbb0ebb5-1e12-4540-9ae6-a3d736f79907",
   "metadata": {},
   "outputs": [
    {
     "data": {
      "text/html": [
       "<div>\n",
       "<style scoped>\n",
       "    .dataframe tbody tr th:only-of-type {\n",
       "        vertical-align: middle;\n",
       "    }\n",
       "\n",
       "    .dataframe tbody tr th {\n",
       "        vertical-align: top;\n",
       "    }\n",
       "\n",
       "    .dataframe thead th {\n",
       "        text-align: right;\n",
       "    }\n",
       "</style>\n",
       "<table border=\"1\" class=\"dataframe\">\n",
       "  <thead>\n",
       "    <tr style=\"text-align: right;\">\n",
       "      <th></th>\n",
       "      <th>InvoiceNo</th>\n",
       "      <th>StockCode</th>\n",
       "      <th>Description</th>\n",
       "      <th>Quantity</th>\n",
       "      <th>InvoiceDate</th>\n",
       "      <th>UnitPrice</th>\n",
       "      <th>CustomerID</th>\n",
       "      <th>Country</th>\n",
       "    </tr>\n",
       "  </thead>\n",
       "  <tbody>\n",
       "    <tr>\n",
       "      <th>0</th>\n",
       "      <td>536365</td>\n",
       "      <td>85123A</td>\n",
       "      <td>WHITE HANGING HEART T-LIGHT HOLDER</td>\n",
       "      <td>6</td>\n",
       "      <td>2010-12-01 08:26:00</td>\n",
       "      <td>2.55</td>\n",
       "      <td>17850.0</td>\n",
       "      <td>United Kingdom</td>\n",
       "    </tr>\n",
       "    <tr>\n",
       "      <th>1</th>\n",
       "      <td>536365</td>\n",
       "      <td>71053</td>\n",
       "      <td>WHITE METAL LANTERN</td>\n",
       "      <td>6</td>\n",
       "      <td>2010-12-01 08:26:00</td>\n",
       "      <td>3.39</td>\n",
       "      <td>17850.0</td>\n",
       "      <td>United Kingdom</td>\n",
       "    </tr>\n",
       "    <tr>\n",
       "      <th>2</th>\n",
       "      <td>536365</td>\n",
       "      <td>84406B</td>\n",
       "      <td>CREAM CUPID HEARTS COAT HANGER</td>\n",
       "      <td>8</td>\n",
       "      <td>2010-12-01 08:26:00</td>\n",
       "      <td>2.75</td>\n",
       "      <td>17850.0</td>\n",
       "      <td>United Kingdom</td>\n",
       "    </tr>\n",
       "    <tr>\n",
       "      <th>3</th>\n",
       "      <td>536365</td>\n",
       "      <td>84029G</td>\n",
       "      <td>KNITTED UNION FLAG HOT WATER BOTTLE</td>\n",
       "      <td>6</td>\n",
       "      <td>2010-12-01 08:26:00</td>\n",
       "      <td>3.39</td>\n",
       "      <td>17850.0</td>\n",
       "      <td>United Kingdom</td>\n",
       "    </tr>\n",
       "    <tr>\n",
       "      <th>4</th>\n",
       "      <td>536365</td>\n",
       "      <td>84029E</td>\n",
       "      <td>RED WOOLLY HOTTIE WHITE HEART.</td>\n",
       "      <td>6</td>\n",
       "      <td>2010-12-01 08:26:00</td>\n",
       "      <td>3.39</td>\n",
       "      <td>17850.0</td>\n",
       "      <td>United Kingdom</td>\n",
       "    </tr>\n",
       "  </tbody>\n",
       "</table>\n",
       "</div>"
      ],
      "text/plain": [
       "  InvoiceNo StockCode                          Description  Quantity  \\\n",
       "0    536365    85123A   WHITE HANGING HEART T-LIGHT HOLDER         6   \n",
       "1    536365     71053                  WHITE METAL LANTERN         6   \n",
       "2    536365    84406B       CREAM CUPID HEARTS COAT HANGER         8   \n",
       "3    536365    84029G  KNITTED UNION FLAG HOT WATER BOTTLE         6   \n",
       "4    536365    84029E       RED WOOLLY HOTTIE WHITE HEART.         6   \n",
       "\n",
       "          InvoiceDate  UnitPrice  CustomerID         Country  \n",
       "0 2010-12-01 08:26:00       2.55     17850.0  United Kingdom  \n",
       "1 2010-12-01 08:26:00       3.39     17850.0  United Kingdom  \n",
       "2 2010-12-01 08:26:00       2.75     17850.0  United Kingdom  \n",
       "3 2010-12-01 08:26:00       3.39     17850.0  United Kingdom  \n",
       "4 2010-12-01 08:26:00       3.39     17850.0  United Kingdom  "
      ]
     },
     "execution_count": 13,
     "metadata": {},
     "output_type": "execute_result"
    }
   ],
   "source": [
    "# Load the Excel file\n",
    "file_path = \"/Users/barbarawerobaobayi/Documents/Datasets/Online Retail.xlsx\"\n",
    "\n",
    "# Read the first sheet of the Excel file\n",
    "df = pd.read_excel(file_path, engine=\"openpyxl\")\n",
    "\n",
    "# Display first 5 rows\n",
    "df.head()"
   ]
  },
  {
   "cell_type": "markdown",
   "id": "f553b3a8-0dde-458b-9100-a4894448ecdb",
   "metadata": {},
   "source": [
    "#  Database Design & Table Creation"
   ]
  },
  {
   "cell_type": "markdown",
   "id": "a5689465-7d97-48b1-b03f-199432581f67",
   "metadata": {},
   "source": [
    "### **🛠 Database Schema**\n",
    "We will create the following tables:\n",
    "- **Customers** (CustomerID, Country)\n",
    "- **Orders** (InvoiceNo, InvoiceDate, CustomerID)\n",
    "- **Products** (StockCode, Description, UnitPrice)\n",
    "- **OrderDetails** (InvoiceNo, StockCode, Quantity, UnitPrice)\n",
    "\n",
    "This ensures **data integrity and efficient querying**.\n",
    "You should have already done this in your MySQL."
   ]
  },
  {
   "cell_type": "code",
   "execution_count": 7,
   "id": "b8930c36-1325-4449-a179-18b43e4400e9",
   "metadata": {},
   "outputs": [
    {
     "name": "stdout",
     "output_type": "stream",
     "text": [
      "('Customers',)\n",
      "('OrderDetails',)\n",
      "('Orders',)\n",
      "('Products',)\n"
     ]
    }
   ],
   "source": [
    "cursor.execute(\"SHOW TABLES;\")\n",
    "for table in cursor.fetchall():\n",
    "    print(table)"
   ]
  },
  {
   "cell_type": "markdown",
   "id": "c64fa8fc-719a-4f8b-a12f-4d7532a8f0e4",
   "metadata": {},
   "source": [
    "# Automated Data Loading with Python"
   ]
  },
  {
   "cell_type": "markdown",
   "id": "ceea6006-31d7-4dda-b74e-dc8c73a44ec6",
   "metadata": {},
   "source": [
    "### Data Cleaning & Transformation\n",
    "- **✔ Fix Missing & Invalid Descriptions**\n",
    "- **✔ Remove Zero-Priced Products**\n",
    "- **✔ Fix Duplicate Orders**\n",
    "- **✔ Handle Missing Foreign Keys**"
   ]
  },
  {
   "cell_type": "code",
   "execution_count": 29,
   "id": "645e05bc-ed89-4c16-86c1-3b02e9c4dbab",
   "metadata": {},
   "outputs": [
    {
     "name": "stdout",
     "output_type": "stream",
     "text": [
      " Extracted 4389 unique customers!\n",
      "Inserted unique customers into MySQL!\n"
     ]
    }
   ],
   "source": [
    "customers = df[['CustomerID', 'Country']].drop_duplicates()\n",
    "print(f\" Extracted {len(customers)} unique customers!\")\n",
    "\n",
    "for _, row in customers.iterrows():\n",
    "    cursor.execute(\"INSERT IGNORE INTO Customers (CustomerID, Country) VALUES (%s, %s)\", \n",
    "                   (row[\"CustomerID\"], row[\"Country\"]))\n",
    "\n",
    "conn.commit()\n",
    "print(\"Inserted unique customers into MySQL!\")"
   ]
  },
  {
   "cell_type": "code",
   "execution_count": 35,
   "id": "217eee7d-3a34-4620-9706-42156b7231a7",
   "metadata": {},
   "outputs": [
    {
     "name": "stdout",
     "output_type": "stream",
     "text": [
      "StockCode        0\n",
      "Description    960\n",
      "UnitPrice        0\n",
      "dtype: int64\n"
     ]
    }
   ],
   "source": [
    "print(products.isna().sum())\n"
   ]
  },
  {
   "cell_type": "code",
   "execution_count": 81,
   "id": "10861873-d92f-4136-965a-119afbe3e3a1",
   "metadata": {},
   "outputs": [
    {
     "name": "stdout",
     "output_type": "stream",
     "text": [
      "Extracted 16282 unique products after categorizing invalid descriptions!\n"
     ]
    }
   ],
   "source": [
    "# Define a list of invalid placeholders\n",
    "invalid_descriptions = [\"?\", \"??\", \"???\", \"missing\", \"?? missing\", \"????damages????\", \n",
    "                        \"???lost\", \"?display?\", \"?sold as sets?\", \"????missing\", \"???missing\"]\n",
    "\n",
    "# Replace NaN values with \"No Description\"\n",
    "products['Description'] = products['Description'].fillna(\"No Description\")\n",
    "\n",
    "# Replace invalid placeholders with \"Invalid Description\"\n",
    "products['Description'] = products['Description'].replace(invalid_descriptions, \"Invalid Description\")\n",
    "\n",
    "# Ensure all descriptions are properly formatted as strings\n",
    "products['Description'] = products['Description'].astype(str)\n",
    "\n",
    "print(f\"Extracted {len(products)} unique products after categorizing invalid descriptions!\")\n"
   ]
  },
  {
   "cell_type": "code",
   "execution_count": 95,
   "id": "e8172818-49f3-4a78-96d5-72370a0a064d",
   "metadata": {},
   "outputs": [
    {
     "name": "stdout",
     "output_type": "stream",
     "text": [
      "✅ Removed products with missing descriptions. Remaining products: 17093\n"
     ]
    }
   ],
   "source": [
    "products = products.dropna(subset=[\"Description\"])\n",
    "print(f\"✅ Removed products with missing descriptions. Remaining products: {len(products)}\")\n"
   ]
  },
  {
   "cell_type": "code",
   "execution_count": 97,
   "id": "93b31075-0d55-4e96-892d-6d96cba149be",
   "metadata": {},
   "outputs": [
    {
     "name": "stdout",
     "output_type": "stream",
     "text": [
      "✅ Removed products with zero price. Remaining products: 16282\n"
     ]
    }
   ],
   "source": [
    "products = products[products[\"UnitPrice\"] > 0]\n",
    "print(f\"✅ Removed products with zero price. Remaining products: {len(products)}\")\n"
   ]
  },
  {
   "cell_type": "code",
   "execution_count": 99,
   "id": "6b92063c-9ed6-4bda-9ac9-7a73f6237fa7",
   "metadata": {},
   "outputs": [
    {
     "name": "stdout",
     "output_type": "stream",
     "text": [
      "StockCode      0\n",
      "Description    0\n",
      "UnitPrice      0\n",
      "dtype: int64\n",
      "Empty DataFrame\n",
      "Columns: [StockCode, Description, UnitPrice]\n",
      "Index: []\n",
      "StockCode       object\n",
      "Description     object\n",
      "UnitPrice      float64\n",
      "dtype: object\n"
     ]
    }
   ],
   "source": [
    "print(products.isna().sum())  # Should show 0 NaNs\n",
    "print(products[products[\"UnitPrice\"] == 0])  # Should return an empty DataFrame\n",
    "print(products.dtypes)  # Ensure correct data types\n"
   ]
  },
  {
   "cell_type": "code",
   "execution_count": 101,
   "id": "d2f215f5-a791-416d-9a32-22c0919b745f",
   "metadata": {},
   "outputs": [
    {
     "name": "stdout",
     "output_type": "stream",
     "text": [
      "✅ Successfully inserted cleaned product data into MySQL!\n"
     ]
    }
   ],
   "source": [
    "for _, row in products.iterrows():\n",
    "    cursor.execute(\"INSERT IGNORE INTO Products (StockCode, Description, UnitPrice) VALUES (%s, %s, %s)\", \n",
    "                   (row[\"StockCode\"], row[\"Description\"], row[\"UnitPrice\"]))\n",
    "\n",
    "conn.commit()\n",
    "print(\"✅ Successfully inserted cleaned product data into MySQL!\")\n"
   ]
  },
  {
   "cell_type": "code",
   "execution_count": 105,
   "id": "18b4bfff-7019-4e92-b866-163803eafd9d",
   "metadata": {},
   "outputs": [
    {
     "name": "stdout",
     "output_type": "stream",
     "text": [
      "516009\n",
      "  InvoiceNo         InvoiceDate CustomerID\n",
      "0    536365 2010-12-01 08:26:00    17850.0\n",
      "1    536365 2010-12-01 08:26:00    17850.0\n",
      "2    536365 2010-12-01 08:26:00    17850.0\n",
      "3    536365 2010-12-01 08:26:00    17850.0\n",
      "4    536365 2010-12-01 08:26:00    17850.0\n",
      "5    536365 2010-12-01 08:26:00    17850.0\n",
      "6    536365 2010-12-01 08:26:00    17850.0\n",
      "7    536366 2010-12-01 08:28:00    17850.0\n",
      "8    536366 2010-12-01 08:28:00    17850.0\n",
      "9    536367 2010-12-01 08:34:00    13047.0\n"
     ]
    }
   ],
   "source": [
    "print(orders[\"InvoiceNo\"].duplicated().sum())  # Count duplicates\n",
    "print(orders[orders.duplicated(subset=\"InvoiceNo\", keep=False)].head(10))  # Show sample duplicate invoices\n"
   ]
  },
  {
   "cell_type": "code",
   "execution_count": 107,
   "id": "fed84a59-2d37-4a64-86e4-bb96094ae32b",
   "metadata": {},
   "outputs": [
    {
     "name": "stdout",
     "output_type": "stream",
     "text": [
      "Extracted 25900 unique orders after removing duplicates!\n"
     ]
    }
   ],
   "source": [
    "orders = orders.drop_duplicates(subset=\"InvoiceNo\")\n",
    "print(f\"Extracted {len(orders)} unique orders after removing duplicates!\")"
   ]
  },
  {
   "cell_type": "code",
   "execution_count": 109,
   "id": "c97b1003-eb7f-444f-83d9-b99c553ce87a",
   "metadata": {},
   "outputs": [
    {
     "name": "stdout",
     "output_type": "stream",
     "text": [
      "Inserted unique order records into MySQL!\n"
     ]
    }
   ],
   "source": [
    "for _, row in orders.iterrows():\n",
    "    cursor.execute(\"INSERT IGNORE INTO Orders (InvoiceNo, InvoiceDate, CustomerID) VALUES (%s, %s, %s)\", \n",
    "                   (row[\"InvoiceNo\"], row[\"InvoiceDate\"], row[\"CustomerID\"]))\n",
    "\n",
    "conn.commit()\n",
    "print(\"Inserted unique order records into MySQL!\")\n"
   ]
  },
  {
   "cell_type": "code",
   "execution_count": 113,
   "id": "31105051-a058-4153-aed9-102cbc2c44e6",
   "metadata": {},
   "outputs": [
    {
     "name": "stdout",
     "output_type": "stream",
     "text": [
      "❌ Missing StockCodes: 134\n",
      "      InvoiceNo StockCode  Quantity  UnitPrice\n",
      "1970     536545     21134         1        0.0\n",
      "1987     536549    85226A         1        0.0\n",
      "1988     536550     85044         1        0.0\n",
      "2024     536552     20950         1        0.0\n",
      "2026     536554     84670        23        0.0\n",
      "7187     536995     35951        57        0.0\n",
      "7193     537001     21653        -6        0.0\n",
      "19628    537875     20849         1        0.0\n",
      "19631    537878    72803B         1        0.0\n",
      "21782    538133    85018C         3        0.0\n"
     ]
    }
   ],
   "source": [
    "# Find missing StockCodes\n",
    "missing_stockcodes = order_details[~order_details[\"StockCode\"].isin(products[\"StockCode\"])]\n",
    "\n",
    "print(f\"❌ Missing StockCodes: {len(missing_stockcodes)}\")\n",
    "print(missing_stockcodes.head(10))  # Display first few missing StockCodes\n"
   ]
  },
  {
   "cell_type": "code",
   "execution_count": 117,
   "id": "0ae9267d-9e6d-4bb3-a363-ae40c5a784e2",
   "metadata": {},
   "outputs": [
    {
     "name": "stdout",
     "output_type": "stream",
     "text": [
      " Removed 134 invalid OrderDetails rows. Remaining: 541775\n"
     ]
    }
   ],
   "source": [
    "order_details = order_details[order_details[\"StockCode\"].isin(products[\"StockCode\"])]\n",
    "print(f\" Removed {len(missing_stockcodes)} invalid OrderDetails rows. Remaining: {len(order_details)}\")"
   ]
  },
  {
   "cell_type": "code",
   "execution_count": 119,
   "id": "2786a282-b06e-4f6f-a24b-0304c44273e2",
   "metadata": {},
   "outputs": [
    {
     "name": "stdout",
     "output_type": "stream",
     "text": [
      "Inserted 132 missing products into MySQL!\n"
     ]
    }
   ],
   "source": [
    "# Create placeholder products for missing StockCodes\n",
    "missing_products = missing_stockcodes[[\"StockCode\"]].drop_duplicates()\n",
    "missing_products[\"Description\"] = \"Unknown Product\"\n",
    "missing_products[\"UnitPrice\"] = 0.0  # Default price\n",
    "\n",
    "# Insert missing products into MySQL\n",
    "for _, row in missing_products.iterrows():\n",
    "    cursor.execute(\"INSERT IGNORE INTO Products (StockCode, Description, UnitPrice) VALUES (%s, %s, %s)\", \n",
    "                   (row[\"StockCode\"], row[\"Description\"], row[\"UnitPrice\"]))\n",
    "\n",
    "conn.commit()\n",
    "print(f\"Inserted {len(missing_products)} missing products into MySQL!\")\n"
   ]
  },
  {
   "cell_type": "code",
   "execution_count": 121,
   "id": "48d93bcf-6752-42f3-b097-5acde4845985",
   "metadata": {},
   "outputs": [
    {
     "name": "stdout",
     "output_type": "stream",
     "text": [
      "❌ Missing StockCodes after fix: 0\n"
     ]
    }
   ],
   "source": [
    "# Check if any missing StockCodes remain\n",
    "missing_stockcodes = order_details[~order_details[\"StockCode\"].isin(products[\"StockCode\"])]\n",
    "print(f\"❌ Missing StockCodes after fix: {len(missing_stockcodes)}\")\n"
   ]
  },
  {
   "cell_type": "code",
   "execution_count": 125,
   "id": "4e0ff796-51c1-4735-8302-b4326b65c695",
   "metadata": {},
   "outputs": [
    {
     "name": "stdout",
     "output_type": "stream",
     "text": [
      "Successfully inserted order details into MySQL!\n"
     ]
    }
   ],
   "source": [
    "for _, row in order_details.iterrows():\n",
    "    cursor.execute(\"INSERT INTO OrderDetails (InvoiceNo, StockCode, Quantity, UnitPrice) VALUES (%s, %s, %s, %s)\", \n",
    "                   (row[\"InvoiceNo\"], row[\"StockCode\"], row[\"Quantity\"], row[\"UnitPrice\"]))\n",
    "\n",
    "conn.commit()\n",
    "print(\"Successfully inserted order details into MySQL!\")"
   ]
  },
  {
   "cell_type": "code",
   "execution_count": 127,
   "id": "37ffca03-3b7c-4d3f-bcb7-1522e89492e1",
   "metadata": {},
   "outputs": [
    {
     "name": "stdout",
     "output_type": "stream",
     "text": [
      "✅ Customers: 4373 rows\n",
      "✅ Products: 3958 rows\n",
      "✅ Orders: 25900 rows\n",
      "✅ OrderDetails: 1085520 rows\n"
     ]
    }
   ],
   "source": [
    "# Check row counts for all tables\n",
    "tables = [\"Customers\", \"Products\", \"Orders\", \"OrderDetails\"]\n",
    "\n",
    "for table in tables:\n",
    "    cursor.execute(f\"SELECT COUNT(*) FROM {table};\")\n",
    "    row_count = cursor.fetchone()[0]\n",
    "    print(f\"✅ {table}: {row_count} rows\")\n"
   ]
  },
  {
   "cell_type": "code",
   "execution_count": 161,
   "id": "c7aedbac-1340-4907-8174-0d23c9dd3180",
   "metadata": {},
   "outputs": [
    {
     "name": "stdout",
     "output_type": "stream",
     "text": [
      "❌ Duplicate rows in OrderDetails: 531089\n"
     ]
    }
   ],
   "source": [
    "cursor.execute(\"\"\"\n",
    "    SELECT InvoiceNo, StockCode, COUNT(*)\n",
    "    FROM OrderDetails\n",
    "    GROUP BY InvoiceNo, StockCode\n",
    "    HAVING COUNT(*) > 1;\n",
    "\"\"\")\n",
    "duplicates = cursor.fetchall()\n",
    "\n",
    "print(f\"❌ Duplicate rows in OrderDetails: {len(duplicates)}\")"
   ]
  },
  {
   "cell_type": "code",
   "execution_count": 163,
   "id": "76975e99-0f3e-4540-9295-52c1805f13c7",
   "metadata": {},
   "outputs": [
    {
     "name": "stdout",
     "output_type": "stream",
     "text": [
      "✅ Cleared OrderDetails table!\n"
     ]
    }
   ],
   "source": [
    "cursor.execute(\"DELETE FROM OrderDetails;\")\n",
    "conn.commit()\n",
    "print(\"✅ Cleared OrderDetails table!\")"
   ]
  },
  {
   "cell_type": "code",
   "execution_count": 171,
   "id": "200a7b86-e748-4727-8f55-65be788275ed",
   "metadata": {},
   "outputs": [
    {
     "name": "stdout",
     "output_type": "stream",
     "text": [
      " Reloading 531091 unique OrderDetails rows!\n",
      " Successfully reloaded clean OrderDetails into MySQL!\n"
     ]
    }
   ],
   "source": [
    "order_details = order_details.drop_duplicates(subset=[\"InvoiceNo\", \"StockCode\"])\n",
    "print(f\" Reloading {len(order_details)} unique OrderDetails rows!\")\n",
    "\n",
    "for _, row in order_details.iterrows():\n",
    "    cursor.execute(\"INSERT INTO OrderDetails (InvoiceNo, StockCode, Quantity, UnitPrice) VALUES (%s, %s, %s, %s)\", \n",
    "                   (row[\"InvoiceNo\"], row[\"StockCode\"], row[\"Quantity\"], row[\"UnitPrice\"]))\n",
    "\n",
    "conn.commit()\n",
    "print(\" Successfully reloaded clean OrderDetails into MySQL!\")"
   ]
  },
  {
   "cell_type": "markdown",
   "id": "44c06401-32f7-4df2-91b1-8a66699a6db3",
   "metadata": {},
   "source": [
    "# Final Checks & Validation"
   ]
  },
  {
   "cell_type": "code",
   "execution_count": 172,
   "id": "a204fd33-3557-4aa3-8e90-8a2b680796f1",
   "metadata": {},
   "outputs": [
    {
     "name": "stdout",
     "output_type": "stream",
     "text": [
      "Customers: 4373 rows\n",
      "Products: 3958 rows\n",
      "Orders: 25900 rows\n",
      "OrderDetails: 531091 rows\n"
     ]
    }
   ],
   "source": [
    "# Check row counts for all tables\n",
    "tables = [\"Customers\", \"Products\", \"Orders\", \"OrderDetails\"]\n",
    "\n",
    "for table in tables:\n",
    "    cursor.execute(f\"SELECT COUNT(*) FROM {table};\")\n",
    "    row_count = cursor.fetchone()[0]\n",
    "    print(f\"{table}: {row_count} rows\")"
   ]
  },
  {
   "cell_type": "code",
   "execution_count": null,
   "id": "0edacc37-7cda-4296-a9ce-9e4fe4be8c0b",
   "metadata": {},
   "outputs": [],
   "source": []
  }
 ],
 "metadata": {
  "kernelspec": {
   "display_name": "Python 3 (ipykernel)",
   "language": "python",
   "name": "python3"
  },
  "language_info": {
   "codemirror_mode": {
    "name": "ipython",
    "version": 3
   },
   "file_extension": ".py",
   "mimetype": "text/x-python",
   "name": "python",
   "nbconvert_exporter": "python",
   "pygments_lexer": "ipython3",
   "version": "3.12.7"
  }
 },
 "nbformat": 4,
 "nbformat_minor": 5
}
